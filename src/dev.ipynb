{
  "cells": [
    {
      "cell_type": "code",
      "execution_count": null,
      "metadata": {
        "id": "ZETCyG4hOQjm"
      },
      "outputs": [],
      "source": [
        "%pip install pandas_datareader pykrx yfinance"
      ]
    },
    {
      "cell_type": "markdown",
      "source": [
        "# src"
      ],
      "metadata": {
        "id": "98miW4duTdoa"
      }
    },
    {
      "cell_type": "markdown",
      "source": [
        "## common"
      ],
      "metadata": {
        "id": "YonMIUaJVOR9"
      }
    },
    {
      "cell_type": "markdown",
      "source": [
        "### path.py"
      ],
      "metadata": {
        "id": "riKVV_61VP8f"
      }
    },
    {
      "cell_type": "code",
      "source": [
        "import os\n",
        "\n",
        "\n",
        "class PATH:\n",
        "\n",
        "    try:\n",
        "        ROOT = os.path.dirname(__file__)\n",
        "        while not ROOT.endswith('yuho'):\n",
        "            ROOT = os.path.dirname(ROOT)\n",
        "    except NameError:\n",
        "        ROOT = 'https://raw.githubusercontent.com/labwons/yuho/main/'\n",
        "\n",
        "    GROUP  = os.path.join(ROOT, r'docs/json/marketmap/marketmap.json')\n",
        "    STATE  = os.path.join(ROOT, r'docs/json/marketmap/state.json')\n",
        "    PRICE  = os.path.join(ROOT, r'docs/json/marketmap/price.json')\n",
        "    SPECS  = os.path.join(ROOT, r'docs/json/marketmap/specs.json')\n",
        "    INDEX  = os.path.join(ROOT, r'docs/json/macro/index.json')\n",
        "    BUBBLE = os.path.join(ROOT, r'docs/json/service/bubble.json')\n",
        "    TRMAP  = os.path.join(ROOT, r'docs/json/service/treemap.json')\n",
        "    MACRO  = os.path.join(ROOT, r'docs/json/service/macro.json')\n",
        "    try:\n",
        "        DESKTOP = os.path.join(os.path.join(os.environ['USERPROFILE']), 'Desktop')\n",
        "        DOWNLOADS = os.path.join(os.path.join(os.environ['USERPROFILE']), 'Downloads')\n",
        "    except KeyError:\n",
        "        DESKTOP = DOWNLOADS = ROOT\n",
        "\n",
        "\n",
        "\n",
        "if __name__ == \"__main__\":\n",
        "    print(PATH.ROOT)\n",
        "    print(PATH.GROUP)\n",
        "    print(PATH.STATE)\n",
        "    print(PATH.PRICE)\n",
        "    print(PATH.SPECS)\n",
        "    print(PATH.INDEX)\n",
        "    print(PATH.TRMAP)"
      ],
      "metadata": {
        "id": "i0s8nyVaVTOG"
      },
      "execution_count": null,
      "outputs": []
    },
    {
      "cell_type": "markdown",
      "source": [
        "## fetch"
      ],
      "metadata": {
        "id": "RXmdlz3bTkD-"
      }
    },
    {
      "cell_type": "markdown",
      "source": [
        "### market"
      ],
      "metadata": {
        "id": "QuTGkFGdUE1c"
      }
    },
    {
      "cell_type": "markdown",
      "source": [
        "#### group.py"
      ],
      "metadata": {
        "id": "h3nXH33wUvxf"
      }
    },
    {
      "cell_type": "code",
      "execution_count": null,
      "metadata": {
        "id": "ZQ5pzK_1OQjn"
      },
      "outputs": [],
      "source": [
        "from pandas import DataFrame\n",
        "\n",
        "class MarketGroup(DataFrame):\n",
        "\n",
        "    def __init__(self, update:bool=True):\n",
        ""
      ]
    }
  ],
  "metadata": {
    "language_info": {
      "name": "python"
    },
    "colab": {
      "provenance": [],
      "toc_visible": true
    },
    "kernelspec": {
      "name": "python3",
      "display_name": "Python 3"
    }
  },
  "nbformat": 4,
  "nbformat_minor": 0
}